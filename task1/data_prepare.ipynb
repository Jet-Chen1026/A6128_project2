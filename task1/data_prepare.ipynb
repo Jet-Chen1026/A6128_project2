{
 "cells": [
  {
   "cell_type": "code",
   "execution_count": 4,
   "metadata": {},
   "outputs": [],
   "source": [
    "import pandas as pd\n",
    "\n",
    "# read the train csv file\n",
    "df = pd.read_csv(\"../data/trajectory/train.csv\")\n",
    "\n",
    "# only keep the first 1500 row\n",
    "df_filtered = df.head(1500)\n",
    "\n",
    "# save the filtered data to csv file\n",
    "df_filtered.to_csv(\"../data/trajectory/train_1500.csv\", index=False)\n"
   ]
  },
  {
   "cell_type": "code",
   "execution_count": 2,
   "metadata": {},
   "outputs": [],
   "source": [
    "\n",
    "import osmnx as ox\n",
    "import pandas as pd\n",
    "import matplotlib.pyplot as plt\n",
    "import ast  \n",
    "import numpy as np\n",
    "\n",
    "\n",
    "\n",
    "# 2. download Porto road network and save to two kinds of form in order to the subsequent tasks\n",
    "# only need perform once\n",
    "place_name = \"Porto, Portugal\"\n",
    "network_type = \"drive\"\n",
    "G = ox.graph_from_place(place_name, network_type=network_type)\n",
    "ox.save_graph_shapefile(G, filepath=\"../data/map\")\n",
    "ox.save_graphml(G, \"../data/map/porto.graphml\")\n",
    "\n",
    "\n",
    "\n",
    "# 3. 在地图上添加轨迹\n",
    "colors = plt.cm.jet(np.linspace(0, 1, 15))  # 生成一个颜色映射\n",
    "\n",
    "for idx, row in df.iterrows():\n",
    "    polyline_str = row['POLYLINE']\n",
    "    # 将POLYLINE字段从字符串解析为列表\n",
    "    polyline = ast.literal_eval(polyline_str)\n",
    "    if polyline:  # 检查列表是否为空\n",
    "        lons, lats = zip(*polyline)  # 解压经度和纬度\n",
    "        ax.scatter(lons, lats, c=[colors[idx]], s=10, label=f'Row {idx+1}')\n",
    "\n",
    "# 添加图例（可选）\n",
    "# ax.legend(loc='upper right')\n",
    "\n",
    "plt.show()\n"
   ]
  }
 ],
 "metadata": {
  "kernelspec": {
   "display_name": "Python 3",
   "language": "python",
   "name": "python3"
  },
  "language_info": {
   "codemirror_mode": {
    "name": "ipython",
    "version": 3
   },
   "file_extension": ".py",
   "mimetype": "text/x-python",
   "name": "python",
   "nbconvert_exporter": "python",
   "pygments_lexer": "ipython3",
   "version": "3.11.3"
  }
 },
 "nbformat": 4,
 "nbformat_minor": 2
}
