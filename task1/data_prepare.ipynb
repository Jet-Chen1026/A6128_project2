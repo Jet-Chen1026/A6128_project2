{
 "cells": [
  {
   "cell_type": "markdown",
   "metadata": {},
   "source": [
    "# retrieve fisrt 1500 data of the train data and save them"
   ]
  },
  {
   "cell_type": "code",
   "execution_count": 4,
   "metadata": {},
   "outputs": [],
   "source": [
    "import pandas as pd\n",
    "\n",
    "# read the train csv file\n",
    "df = pd.read_csv(\"../data/trajectory/train.csv\")\n",
    "\n",
    "# only keep the first 1500 row\n",
    "df_filtered = df.head(1500)\n",
    "\n",
    "# save the filtered data to csv file\n",
    "df_filtered.to_csv(\"../data/trajectory/train_1500.csv\", index=False)\n"
   ]
  },
  {
   "cell_type": "markdown",
   "metadata": {},
   "source": [
    "# download map info of Porto and save to data directory"
   ]
  },
  {
   "cell_type": "code",
   "execution_count": 2,
   "metadata": {},
   "outputs": [],
   "source": [
    "\n",
    "import osmnx as ox\n",
    "import pandas as pd\n",
    "import matplotlib.pyplot as plt\n",
    "import ast  \n",
    "import numpy as np\n",
    "\n",
    "# download Porto road network and save to two kinds of form in order to the subsequent tasks\n",
    "# only need perform once\n",
    "place_name = \"Porto, Portugal\"\n",
    "network_type = \"drive\"\n",
    "G = ox.graph_from_place(place_name, network_type=network_type)\n",
    "ox.save_graph_shapefile(G, filepath=\"../data/map\")\n",
    "ox.save_graphml(G, \"../data/map/porto.graphml\")\n"
   ]
  }
 ],
 "metadata": {
  "kernelspec": {
   "display_name": "Python 3",
   "language": "python",
   "name": "python3"
  },
  "language_info": {
   "codemirror_mode": {
    "name": "ipython",
    "version": 3
   },
   "file_extension": ".py",
   "mimetype": "text/x-python",
   "name": "python",
   "nbconvert_exporter": "python",
   "pygments_lexer": "ipython3",
   "version": "3.11.3"
  }
 },
 "nbformat": 4,
 "nbformat_minor": 2
}
