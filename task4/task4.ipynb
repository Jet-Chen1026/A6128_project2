{
 "cells": [
  {
   "cell_type": "code",
   "execution_count": null,
   "metadata": {},
   "outputs": [],
   "source": [
    "import json\n",
    "import io\n",
    "import folium\n",
    "import matplotlib\n",
    "import matplotlib.pyplot as plt\n",
    "import osmnx as ox \n",
    "import numpy as np\n",
    "from folium.features import DivIcon\n",
    "from PIL import Image"
   ]
  },
  {
   "cell_type": "code",
   "execution_count": null,
   "metadata": {},
   "outputs": [],
   "source": [
    "with open('../data/matched-results-1500.json', 'r') as f:\n",
    "    match_results = json.load(f)\n",
    "print(len(match_results))"
   ]
  },
  {
   "cell_type": "code",
   "execution_count": null,
   "metadata": {},
   "outputs": [],
   "source": [
    "colors = plt.cm.jet(np.linspace(0, 1, 15))"
   ]
  },
  {
   "cell_type": "code",
   "execution_count": null,
   "metadata": {},
   "outputs": [],
   "source": [
    "initial_location = [41.1579, -8.6291]  # Example coordinates for Porto, Portugal\n",
    "fmap = folium.Map(location=initial_location, zoom_start=13)\n",
    "folium.TileLayer('cartodbpositron').add_to(fmap)\n",
    "\n",
    "for i in range(15):\n",
    "    gps_points = match_results[i]['POLYLINE']\n",
    "    gps_points = [p[::-1] for p in gps_points]\n",
    "\n",
    "    matched_geometry = match_results[i]['MATCHED_RESULTS']['Matched_geometry']\n",
    "    mgeom = [i[::-1] for i in matched_geometry] \n",
    "\n",
    "    hex_color = matplotlib.colors.to_hex(colors[i])\n",
    "    \n",
    "    folium.PolyLine(mgeom, color=hex_color, weight=3).add_to(fmap)\n",
    "    \n",
    "    for point in gps_points:\n",
    "        folium.CircleMarker(location=point, radius=2, color=hex_color).add_to(fmap)\n",
    "\n",
    "fmap.save('../data/matched-15-routes-folium.html')\n",
    "\n",
    "#img_data = fmap._to_png(5)\n",
    "#img = Image.open(io.BytesIO(img_data))\n",
    "#img.save('../data/matched-15-routes-folium.png')\n",
    "\n",
    "#fmap"
   ]
  },
  {
   "cell_type": "code",
   "execution_count": null,
   "metadata": {},
   "outputs": [],
   "source": [
    "for i in range(15):\n",
    "    gps_points = match_results[i]['POLYLINE']\n",
    "    gps_points = [p[::-1] for p in gps_points]\n",
    "\n",
    "    latitudes, longitudes = zip(*gps_points)\n",
    "    centroid = [np.mean(latitudes), np.mean(longitudes)]\n",
    "\n",
    "    matched_geometry = match_results[i]['MATCHED_RESULTS']['Matched_geometry']\n",
    "    mgeom = [i[::-1] for i in matched_geometry] \n",
    "\n",
    "    hex_color = matplotlib.colors.to_hex(colors[i])\n",
    "\n",
    "    fmap = folium.Map(location=centroid, zoom_start=15)\n",
    "    folium.TileLayer('cartodbpositron').add_to(fmap)\n",
    "\n",
    "    folium.PolyLine(mgeom, color=hex_color, weight=2).add_to(fmap)\n",
    "\n",
    "    for j, point in enumerate(gps_points):\n",
    "        folium.CircleMarker(location=point, radius=1, color=hex_color).add_to(fmap)\n",
    "        folium.map.Marker(\n",
    "            #location=[point[0]+0.0005, point[1]],\n",
    "            location=point,\n",
    "            icon=DivIcon(icon_anchor=(5, 20), html=f'<div style=\"font-size: 10pt\">%s</div>' % str(j+1)),\n",
    "        ).add_to(fmap)\n",
    "\n",
    "    # Save each map as an HTML file\n",
    "    fmap.save(f'../data/matched-route-{i}-folium.html')\n",
    "\n",
    "    #img_data = fmap._to_png(5)\n",
    "    #img = Image.open(io.BytesIO(img_data))\n",
    "    #img.save(f'../data/matched-route-{i}-folium.png')"
   ]
  },
  {
   "cell_type": "code",
   "execution_count": null,
   "metadata": {},
   "outputs": [],
   "source": [
    "i = 3\n",
    "\n",
    "gps_points = match_results[i]['POLYLINE']\n",
    "gps_points = [p[::-1] for p in gps_points]\n",
    "print(len(gps_points))\n",
    "\n",
    "latitudes, longitudes = zip(*gps_points)\n",
    "centroid = [(max(latitudes)+min(latitudes))/2, (max(longitudes)+min(longitudes))/2]\n",
    "print(centroid)\n",
    "\n",
    "matched_geometry = match_results[i]['MATCHED_RESULTS']['Matched_geometry']\n",
    "mgeom = [i[::-1] for i in matched_geometry] \n",
    "print(len(mgeom))\n",
    "\n",
    "hex_color = matplotlib.colors.to_hex(colors[i])"
   ]
  },
  {
   "cell_type": "code",
   "execution_count": null,
   "metadata": {},
   "outputs": [],
   "source": [
    "_gps_points = gps_points[:18]\n",
    "_mgeom = mgeom[:244]\n",
    "\n",
    "fmap = folium.Map(location=centroid, zoom_start=15)\n",
    "folium.TileLayer('cartodbpositron').add_to(fmap)\n",
    "\n",
    "folium.PolyLine(_mgeom, color=hex_color, weight=2).add_to(fmap)\n",
    "\n",
    "for j, point in enumerate(_gps_points, 0):\n",
    "    folium.CircleMarker(location=point, radius=1, color=hex_color).add_to(fmap)\n",
    "    folium.map.Marker(\n",
    "        location=point,\n",
    "        icon=DivIcon(icon_anchor=(5, 20), html=f'<div style=\"font-size: 10pt\">%s</div>' % str(j+1)),\n",
    "    ).add_to(fmap)\n",
    "\n",
    "#img_data = fmap._to_png(5)\n",
    "#img = Image.open(io.BytesIO(img_data))\n",
    "#img.save(f'../data/matched-route-{i}-folium-1.png')\n",
    "    \n",
    "fmap\n"
   ]
  },
  {
   "cell_type": "code",
   "execution_count": null,
   "metadata": {},
   "outputs": [],
   "source": [
    "_gps_points = gps_points[17:]\n",
    "_mgeom = mgeom[242:]\n",
    "\n",
    "fmap = folium.Map(location=centroid, zoom_start=15)\n",
    "folium.TileLayer('cartodbpositron').add_to(fmap)\n",
    "\n",
    "folium.PolyLine(_mgeom, color=hex_color, weight=2).add_to(fmap)\n",
    "\n",
    "for j, point in enumerate(_gps_points, 17):\n",
    "    folium.CircleMarker(location=point, radius=1, color=hex_color).add_to(fmap)\n",
    "    folium.map.Marker(\n",
    "        location=point,\n",
    "        icon=DivIcon(icon_anchor=(5, 20), html=f'<div style=\"font-size: 10pt\">%s</div>' % str(j+1)),\n",
    "    ).add_to(fmap)\n",
    "    \n",
    "#img_data = fmap._to_png(5)\n",
    "#img = Image.open(io.BytesIO(img_data))\n",
    "#img.save(f'../data/matched-route-{i}-folium-2.png')\n",
    "\n",
    "fmap"
   ]
  }
 ],
 "metadata": {
  "kernelspec": {
   "display_name": ".venv",
   "language": "python",
   "name": "python3"
  },
  "language_info": {
   "codemirror_mode": {
    "name": "ipython",
    "version": 3
   },
   "file_extension": ".py",
   "mimetype": "text/x-python",
   "name": "python",
   "nbconvert_exporter": "python",
   "pygments_lexer": "ipython3",
   "version": "3.10.12"
  }
 },
 "nbformat": 4,
 "nbformat_minor": 2
}
