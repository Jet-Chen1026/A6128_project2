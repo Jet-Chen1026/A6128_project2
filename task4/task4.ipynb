{
 "cells": [
  {
   "cell_type": "code",
   "execution_count": 7,
   "metadata": {},
   "outputs": [],
   "source": [
    "import json\n",
    "import io\n",
    "import folium\n",
    "import matplotlib\n",
    "import matplotlib.pyplot as plt\n",
    "import osmnx as ox \n",
    "import numpy as np\n",
    "from folium.features import DivIcon\n",
    "from PIL import Image"
   ]
  },
  {
   "cell_type": "code",
   "execution_count": 2,
   "metadata": {},
   "outputs": [
    {
     "name": "stdout",
     "output_type": "stream",
     "text": [
      "1500\n"
     ]
    }
   ],
   "source": [
    "with open('../data/matched-results-1500.json', 'r') as f:\n",
    "    match_results = json.load(f)\n",
    "print(len(match_results))"
   ]
  },
  {
   "cell_type": "code",
   "execution_count": null,
   "metadata": {},
   "outputs": [],
   "source": [
    "#G = ox.io.load_graphml(filepath=\"../data/map/porto.graphml\")\n",
    "#fig, ax = ox.plot_graph(G, node_size=3, figsize=(40, 40), edge_linewidth=1, show=False)\n",
    "\n",
    "#colors = plt.cm.jet(np.linspace(0, 1, 15))  \n",
    "#for i in range(15):\n",
    "#    gps_points = match_results[i]['POLYLINE']\n",
    "#\n",
    "#    mgeom = match_results[i]['MATCHED_RESULTS']['Matched_geometry']\n",
    "#    ax.plot([i[0] for i in mgeom], [i[1] for i in mgeom], color=colors[i][:-1], linewidth=1.25)\n",
    "#    \n",
    "#    x, y = zip(*gps_points)\n",
    "#    ax.scatter(x, y, color=colors[i][:-1], marker='x', s=15)\n",
    "#\n",
    "#fig.savefig('../data/matched-15-routes-osmnx.png', dpi=320)\n",
    "#plt.show()"
   ]
  },
  {
   "cell_type": "code",
   "execution_count": null,
   "metadata": {},
   "outputs": [],
   "source": [
    "initial_location = [41.1579, -8.6291]  # Example coordinates for Porto, Portugal\n",
    "fmap = folium.Map(location=initial_location, zoom_start=13)\n",
    "folium.TileLayer('cartodbpositron').add_to(fmap)\n",
    "\n",
    "colors = plt.cm.jet(np.linspace(0, 1, 15))\n",
    "for i in range(15):\n",
    "    gps_points = match_results[i]['POLYLINE']\n",
    "\n",
    "    matched_geometry = match_results[i]['MATCHED_RESULTS']['Matched_geometry']\n",
    "    mgeom = [i[::-1] for i in matched_geometry] \n",
    "\n",
    "    hex_color = matplotlib.colors.to_hex(colors[i])\n",
    "    \n",
    "    folium.PolyLine(mgeom, color=hex_color, weight=3).add_to(fmap)\n",
    "    \n",
    "    for point in gps_points:\n",
    "        folium.CircleMarker(location=point[::-1], radius=2, color=hex_color).add_to(fmap)\n",
    "\n",
    "fmap.save('../data/matched-15-routes-folium.html')\n",
    "\n",
    "img_data = fmap._to_png(5)\n",
    "img = Image.open(io.BytesIO(img_data))\n",
    "img.save('../data/matched-15-routes-folium.png')\n",
    "\n",
    "fmap"
   ]
  },
  {
   "cell_type": "code",
   "execution_count": null,
   "metadata": {},
   "outputs": [],
   "source": [
    "for i in range(15):\n",
    "    gps_points = match_results[i]['POLYLINE']\n",
    "    matched_geometry = match_results[i]['MATCHED_RESULTS']['Matched_geometry']\n",
    "    mgeom = [i[::-1] for i in matched_geometry] \n",
    "\n",
    "    longitudes, latitudes = zip(*gps_points)\n",
    "    centroid = [np.mean(longitudes), np.mean(latitudes)]\n",
    "\n",
    "    fmap = folium.Map(location=centroid[::-1], zoom_start=14)\n",
    "    folium.TileLayer('cartodbpositron').add_to(fmap)\n",
    "\n",
    "    hex_color = matplotlib.colors.to_hex(colors[i])\n",
    "\n",
    "    folium.PolyLine(mgeom, color=hex_color, weight=3).add_to(fmap)\n",
    "\n",
    "    for point in gps_points:\n",
    "        folium.CircleMarker(location=point[::-1], radius=2, color=hex_color).add_to(fmap)\n",
    "\n",
    "    # Save each map as an HTML file\n",
    "    fmap.save(f'../data/matched-route-{i}-folium.html')\n",
    "\n",
    "    img_data = fmap._to_png(5)\n",
    "    img = Image.open(io.BytesIO(img_data))\n",
    "    img.save(f'../data/matched-route-{i}-folium.png')\n"
   ]
  },
  {
   "cell_type": "code",
   "execution_count": 8,
   "metadata": {},
   "outputs": [],
   "source": [
    "colors = plt.cm.jet(np.linspace(0, 1, 15))\n",
    "\n",
    "#for i in [2, 3, 6, 7, 7, 8, 9, 14]:\n",
    "for i in [2]:\n",
    "    gps_points = match_results[i]['POLYLINE']\n",
    "    \n",
    "    longitudes, latitudes = zip(*gps_points)\n",
    "    centroid = [np.mean(longitudes), np.mean(latitudes)]\n",
    "\n",
    "    fmap = folium.Map(location=centroid[::-1], zoom_start=14)\n",
    "    folium.TileLayer('cartodbpositron').add_to(fmap)\n",
    "\n",
    "    hex_color = matplotlib.colors.to_hex(colors[i])\n",
    "\n",
    "    #for point in gps_points:\n",
    "    #    folium.CircleMarker(location=point[::-1], radius=2, color=hex_color).add_to(fmap)\n",
    "\n",
    "    for j, point in enumerate(gps_points):\n",
    "        folium.Marker(\n",
    "            location=point[::-1], \n",
    "            popup=DivIcon(\n",
    "                icon_size=(250,36),\n",
    "                icon_anchor=(0,0),\n",
    "                html=f'<div style=\"font-size: 20pt\">{i}</div>',\n",
    "            ),\n",
    "        ).add_to(fmap)\n",
    "        \n",
    "\n",
    "    # Save each map as an HTML file\n",
    "    fmap.save(f'../data/gps-{i}-folium.html')\n",
    "\n",
    "    img_data = fmap._to_png(5)\n",
    "    img = Image.open(io.BytesIO(img_data))\n",
    "    img.save(f'../data/gps-{i}-folium.png')"
   ]
  },
  {
   "cell_type": "code",
   "execution_count": null,
   "metadata": {},
   "outputs": [],
   "source": []
  }
 ],
 "metadata": {
  "kernelspec": {
   "display_name": ".venv",
   "language": "python",
   "name": "python3"
  },
  "language_info": {
   "codemirror_mode": {
    "name": "ipython",
    "version": 3
   },
   "file_extension": ".py",
   "mimetype": "text/x-python",
   "name": "python",
   "nbconvert_exporter": "python",
   "pygments_lexer": "ipython3",
   "version": "3.11.4"
  }
 },
 "nbformat": 4,
 "nbformat_minor": 2
}
