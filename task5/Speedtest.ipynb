{
 "cells": [
  {
   "cell_type": "code",
   "execution_count": 5,
   "id": "3c6b22ff-6a6b-4590-8dee-ba20995cf97c",
   "metadata": {},
   "outputs": [
    {
     "data": {
      "text/plain": [
       "True"
      ]
     },
     "execution_count": 5,
     "metadata": {},
     "output_type": "execute_result"
    }
   ],
   "source": [
    "from similaritymeasures import dtw\n",
    "from similarity_numba import dtw as dtw_fast\n",
    "\n",
    "import numpy as np\n",
    "\n",
    "x = np.random.randn(100,2)\n",
    "y = np.random.randn(200,2)\n",
    "\n",
    "np.allclose(dtw(x,y,metric='cityblock')[0],dtw_fast(x,y)[0])"
   ]
  },
  {
   "cell_type": "code",
   "execution_count": 9,
   "id": "4403d77d-f42a-447f-bd53-8a252770d737",
   "metadata": {},
   "outputs": [
    {
     "name": "stdout",
     "output_type": "stream",
     "text": [
      "22.5 ms ± 646 µs per loop (mean ± std. dev. of 7 runs, 100 loops each)\n"
     ]
    }
   ],
   "source": [
    "%%timeit -n 100\n",
    "\n",
    "x = np.random.randn(100,2)\n",
    "y = np.random.randn(200,2)\n",
    "dtw(x,y,metric='cityblock')"
   ]
  },
  {
   "cell_type": "code",
   "execution_count": 10,
   "id": "1cf2b530-a7c5-475f-996a-2ad65afc094b",
   "metadata": {},
   "outputs": [
    {
     "name": "stdout",
     "output_type": "stream",
     "text": [
      "2.16 ms ± 286 µs per loop (mean ± std. dev. of 7 runs, 100 loops each)\n"
     ]
    }
   ],
   "source": [
    "%%timeit -n 100\n",
    "\n",
    "x = np.random.randn(100,2)\n",
    "y = np.random.randn(200,2)\n",
    "dtw_fast(x,y,metric='cityblock')"
   ]
  },
  {
   "cell_type": "code",
   "execution_count": null,
   "id": "9aecee5a-75fa-40f2-924a-7d8cdd9023a9",
   "metadata": {},
   "outputs": [],
   "source": []
  }
 ],
 "metadata": {
  "kernelspec": {
   "display_name": "Python 3 (ipykernel)",
   "language": "python",
   "name": "python3"
  },
  "language_info": {
   "codemirror_mode": {
    "name": "ipython",
    "version": 3
   },
   "file_extension": ".py",
   "mimetype": "text/x-python",
   "name": "python",
   "nbconvert_exporter": "python",
   "pygments_lexer": "ipython3",
   "version": "3.10.13"
  }
 },
 "nbformat": 4,
 "nbformat_minor": 5
}
