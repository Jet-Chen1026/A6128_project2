{
 "cells": [
  {
   "cell_type": "code",
   "execution_count": 1,
   "metadata": {},
   "outputs": [],
   "source": [
    "import json\n",
    "\n",
    "import matplotlib.pyplot as plt\n",
    "import osmnx as ox \n",
    "import numpy as np"
   ]
  },
  {
   "cell_type": "code",
   "execution_count": 2,
   "metadata": {},
   "outputs": [
    {
     "name": "stdout",
     "output_type": "stream",
     "text": [
      "1500\n",
      "1087\n"
     ]
    }
   ],
   "source": [
    "with open('./data/matched-results-1500.json', 'r') as f:\n",
    "    match_results = json.load(f)\n",
    "print(len(match_results))\n",
    "\n",
    "match_results = [r for r in match_results if r['MATCHED_RESULTS'].get('Matched_path')]\n",
    "print(len(match_results))"
   ]
  },
  {
   "cell_type": "code",
   "execution_count": 3,
   "metadata": {},
   "outputs": [],
   "source": [
    "G = ox.io.load_graphml(filepath=\"./data/map/porto.graphml\")\n",
    "fig, ax = ox.plot_graph(G, node_size=3, figsize=(40, 40), edge_linewidth=1, show=False)\n",
    "\n",
    "colors = plt.cm.jet(np.linspace(0, 1, 15))  \n",
    "for i in range(15):\n",
    "    gps_points = match_results[i]['POLYLINE']\n",
    "\n",
    "    mgeom = [[float(j) for j in i.split(' ')] for i in match_results[i]['MATCHED_RESULTS']['Matched_geometry'][11:-1].split(',')]\n",
    "    ax.plot([i[0] for i in mgeom], [i[1] for i in mgeom], color=colors[i][:-1], linewidth=1.25)\n",
    "    \n",
    "    x, y = zip(*gps_points)\n",
    "    ax.scatter(x, y, color=colors[i][:-1], marker='x', s=15)\n",
    "\n",
    "fig.savefig('./data/matched-15-routes.png', dpi=320)\n",
    "plt.show()"
   ]
  }
 ],
 "metadata": {
  "kernelspec": {
   "display_name": ".venv",
   "language": "python",
   "name": "python3"
  },
  "language_info": {
   "codemirror_mode": {
    "name": "ipython",
    "version": 3
   },
   "file_extension": ".py",
   "mimetype": "text/x-python",
   "name": "python",
   "nbconvert_exporter": "python",
   "pygments_lexer": "ipython3",
   "version": "3.11.4"
  }
 },
 "nbformat": 4,
 "nbformat_minor": 2
}
