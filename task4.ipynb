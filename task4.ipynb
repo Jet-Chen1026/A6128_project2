{
 "cells": [
  {
   "cell_type": "code",
   "execution_count": null,
   "metadata": {},
   "outputs": [],
   "source": [
    "import json\n",
    "\n",
    "import matplotlib.pyplot as plt\n",
    "import osmnx as ox \n",
    "import numpy as np"
   ]
  },
  {
   "cell_type": "code",
   "execution_count": null,
   "metadata": {},
   "outputs": [],
   "source": [
    "with open('./data/matched-50-results.json', 'r') as f:\n",
    "    match_results = json.load(f)\n",
    "print(len(match_results))\n",
    "\n",
    "for i, r in enumerate(match_results):\n",
    "    if not r['MATCHED_RESULTS'].get('Matched_path'):\n",
    "        del match_results[i]\n",
    "print(len(match_results))"
   ]
  },
  {
   "cell_type": "code",
   "execution_count": null,
   "metadata": {},
   "outputs": [],
   "source": [
    "G = ox.io.load_graphml(filepath=\"./data/Porto, Portugal/porto.graphml\")\n",
    "fig, ax = ox.plot_graph(G, node_size=3, figsize=(40, 40), edge_linewidth=1, show=False)\n",
    "\n",
    "x_min, x_max = 9999, -9999\n",
    "y_min, y_max = 9999, -9999 \n",
    "\n",
    "colors = plt.cm.jet(np.linspace(0, 1, 15))  \n",
    "\n",
    "for i in range(15):\n",
    "    gps_points = match_results[i]['POLYLINE']\n",
    "\n",
    "\n",
    "    mgeom = [[float(j) for j in i.split(' ')] for i in match_results[i]['MATCHED_RESULTS']['Matched_geometry'][11:-1].split(',')]\n",
    "    ax.plot([i[0] for i in mgeom], [i[1] for i in mgeom], c=colors[i], linewidth=1.25)\n",
    "    \n",
    "    x_min = min(x_min, min([i[0] for i in mgeom]))\n",
    "    x_max = max(x_max, max([i[0] for i in mgeom]))\n",
    "    y_min = min(y_min, min([i[1] for i in mgeom]))\n",
    "    y_max = max(y_max, max([i[1] for i in mgeom]))\n",
    "\n",
    "    x, y = zip(*gps_points)\n",
    "    ax.scatter(x, y, c=colors[i], marker='x', s=15)\n",
    "\n",
    "x_mid, y_mid = (x_max+x_min)/2, (y_max+y_min)/2\n",
    "x_gap = (x_max - x_min) * 0.6\n",
    "y_gap = (y_max - y_min) * 0.6\n",
    "if x_gap > y_gap:\n",
    "    y_gap = max(y_gap, x_gap * 0.6)\n",
    "else:\n",
    "    x_gap = max(x_gap, y_gap)\n",
    "\n",
    "ax.set_xlim(x_mid - x_gap, x_mid + x_gap)\n",
    "ax.set_ylim(y_mid - y_gap, y_mid + y_gap)\n",
    "\n",
    "fig.savefig('./data/matched-15-routes.png', dpi=320)\n",
    "plt.show()"
   ]
  }
 ],
 "metadata": {
  "kernelspec": {
   "display_name": ".venv",
   "language": "python",
   "name": "python3"
  },
  "language_info": {
   "codemirror_mode": {
    "name": "ipython",
    "version": 3
   },
   "file_extension": ".py",
   "mimetype": "text/x-python",
   "name": "python",
   "nbconvert_exporter": "python",
   "pygments_lexer": "ipython3",
   "version": "3.11.4"
  }
 },
 "nbformat": 4,
 "nbformat_minor": 2
}
