{
 "cells": [
  {
   "cell_type": "code",
   "execution_count": 1,
   "metadata": {},
   "outputs": [],
   "source": [
    "import json\n",
    "import math"
   ]
  },
  {
   "cell_type": "code",
   "execution_count": 3,
   "metadata": {},
   "outputs": [
    {
     "name": "stdout",
     "output_type": "stream",
     "text": [
      "1500\n",
      "3 3\n"
     ]
    }
   ],
   "source": [
    "with open('../data/matched-results-1500.json', 'r') as f:\n",
    "    match_results = json.load(f)\n",
    "print(len(match_results))\n",
    "\n",
    "n1 = 0\n",
    "n2 = 0\n",
    "gps_errors = []\n",
    "for i, r in enumerate(match_results):\n",
    "    if not r['POLYLINE']:\n",
    "        n1+=1  # Find empty polyline\n",
    "    else:\n",
    "        if not r['MATCHED_RESULTS'].get('Matched_path'):\n",
    "            gps_errors.append((i, r['POLYLINE']))  # Find polyline with map-matching error\n",
    "            n2+=1  # Find empty matched path\n",
    "print(n1, n2)"
   ]
  },
  {
   "cell_type": "code",
   "execution_count": null,
   "metadata": {},
   "outputs": [],
   "source": [
    "def haversine(coord1, coord2):\n",
    "    # Radius of the Earth in km\n",
    "    R = 6371.0\n",
    "\n",
    "    # Coordinates in decimal degrees (latitude, longitude)\n",
    "    lat1, lon1 = coord1\n",
    "    lat2, lon2 = coord2\n",
    "\n",
    "    # Convert decimal degrees to radians\n",
    "    lat1, lon1, lat2, lon2 = map(math.radians, [lat1, lon1, lat2, lon2])\n",
    "\n",
    "    # Haversine formula\n",
    "    dlat = lat2 - lat1\n",
    "    dlon = lon2 - lon1\n",
    "    a = math.sin(dlat / 2)**2 + math.cos(lat1) * math.cos(lat2) * math.sin(dlon / 2)**2\n",
    "    c = 2 * math.atan2(math.sqrt(a), math.sqrt(1 - a))\n",
    "\n",
    "    distance = R * c\n",
    "    return distance\n",
    "\n",
    "for i, coords in gps_errors:\n",
    "    print(max([haversine(coords[j], coords[j+1]) for j in range(len(coords)-1)]))"
   ]
  },
  {
   "cell_type": "code",
   "execution_count": null,
   "metadata": {},
   "outputs": [],
   "source": []
  }
 ],
 "metadata": {
  "kernelspec": {
   "display_name": ".venv",
   "language": "python",
   "name": "python3"
  },
  "language_info": {
   "codemirror_mode": {
    "name": "ipython",
    "version": 3
   },
   "file_extension": ".py",
   "mimetype": "text/x-python",
   "name": "python",
   "nbconvert_exporter": "python",
   "pygments_lexer": "ipython3",
   "version": "3.11.4"
  }
 },
 "nbformat": 4,
 "nbformat_minor": 2
}
